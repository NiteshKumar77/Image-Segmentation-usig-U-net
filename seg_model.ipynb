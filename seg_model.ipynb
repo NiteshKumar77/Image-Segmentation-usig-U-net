{
  "nbformat": 4,
  "nbformat_minor": 0,
  "metadata": {
    "colab": {
      "name": "seg_model.ipynb",
      "provenance": [],
      "collapsed_sections": []
    },
    "kernelspec": {
      "name": "python3",
      "display_name": "Python 3"
    },
    "language_info": {
      "name": "python"
    }
  },
  "cells": [
    {
      "cell_type": "code",
      "source": [
        "import tensorflow as tf\n",
        "\n",
        "IMG_WIDTH = 128\n",
        "IMG_HEIGHT =128\n",
        "IMG_CHANNELS = 3\n",
        "\n",
        "inputs = tf.keras.layers.Input((IMG_HEIGHT, IMG_WIDTH, IMG_CHANNELS))\n",
        "s = tf.keras.layers.Lambda(lambda x: x / 255)(inputs)\n",
        "\n",
        "#Contraction path\n",
        "c1 = tf.keras.layers.Conv2D(16, (3, 3), activation='relu', kernel_initializer='he_normal', padding='same')(s)\n",
        "c1 = tf.keras.layers.Dropout(0.1)(c1)\n",
        "c1 = tf.keras.layers.Conv2D(16, (3, 3), activation='relu', kernel_initializer='he_normal', padding='same')(c1)\n",
        "p1 = tf.keras.layers.MaxPooling2D((2, 2))(c1)\n",
        "\n",
        "c2 = tf.keras.layers.Conv2D(32, (3, 3), activation='relu', kernel_initializer='he_normal', padding='same')(p1)\n",
        "c2 = tf.keras.layers.Dropout(0.1)(c2)\n",
        "c2 = tf.keras.layers.Conv2D(32, (3, 3), activation='relu', kernel_initializer='he_normal', padding='same')(c2)\n",
        "p2 = tf.keras.layers.MaxPooling2D((2, 2))(c2)\n",
        " \n",
        "c3 = tf.keras.layers.Conv2D(64, (3, 3), activation='relu', kernel_initializer='he_normal', padding='same')(p2)\n",
        "c3 = tf.keras.layers.Dropout(0.2)(c3)\n",
        "c3 = tf.keras.layers.Conv2D(64, (3, 3), activation='relu', kernel_initializer='he_normal', padding='same')(c3)\n",
        "p3 = tf.keras.layers.MaxPooling2D((2, 2))(c3)\n",
        " \n",
        "c4 = tf.keras.layers.Conv2D(128, (3, 3), activation='relu', kernel_initializer='he_normal', padding='same')(p3)\n",
        "c4 = tf.keras.layers.Dropout(0.2)(c4)\n",
        "c4 = tf.keras.layers.Conv2D(128, (3, 3), activation='relu', kernel_initializer='he_normal', padding='same')(c4)\n",
        "p4 = tf.keras.layers.MaxPooling2D(pool_size=(2, 2))(c4)\n",
        " \n",
        "c5 = tf.keras.layers.Conv2D(256, (3, 3), activation='relu', kernel_initializer='he_normal', padding='same')(p4)\n",
        "c5 = tf.keras.layers.Dropout(0.3)(c5)\n",
        "c5 = tf.keras.layers.Conv2D(256, (3, 3), activation='relu', kernel_initializer='he_normal', padding='same')(c5)\n",
        "\n",
        "#Expansive path \n",
        "u6 = tf.keras.layers.Conv2DTranspose(128, (2, 2), strides=(2, 2), padding='same')(c5)\n",
        "u6 = tf.keras.layers.concatenate([u6, c4])\n",
        "c6 = tf.keras.layers.Conv2D(128, (3, 3), activation='relu', kernel_initializer='he_normal', padding='same')(u6)\n",
        "c6 = tf.keras.layers.Dropout(0.2)(c6)\n",
        "c6 = tf.keras.layers.Conv2D(128, (3, 3), activation='relu', kernel_initializer='he_normal', padding='same')(c6)\n",
        " \n",
        "u7 = tf.keras.layers.Conv2DTranspose(64, (2, 2), strides=(2, 2), padding='same')(c6)\n",
        "u7 = tf.keras.layers.concatenate([u7, c3])\n",
        "c7 = tf.keras.layers.Conv2D(64, (3, 3), activation='relu', kernel_initializer='he_normal', padding='same')(u7)\n",
        "c7 = tf.keras.layers.Dropout(0.2)(c7)\n",
        "c7 = tf.keras.layers.Conv2D(64, (3, 3), activation='relu', kernel_initializer='he_normal', padding='same')(c7)\n",
        " \n",
        "u8 = tf.keras.layers.Conv2DTranspose(32, (2, 2), strides=(2, 2), padding='same')(c7)\n",
        "u8 = tf.keras.layers.concatenate([u8, c2])\n",
        "c8 = tf.keras.layers.Conv2D(32, (3, 3), activation='relu', kernel_initializer='he_normal', padding='same')(u8)\n",
        "c8 = tf.keras.layers.Dropout(0.1)(c8)\n",
        "c8 = tf.keras.layers.Conv2D(32, (3, 3), activation='relu', kernel_initializer='he_normal', padding='same')(c8)\n",
        " \n",
        "u9 = tf.keras.layers.Conv2DTranspose(16, (2, 2), strides=(2, 2), padding='same')(c8)\n",
        "u9 = tf.keras.layers.concatenate([u9, c1], axis=3)\n",
        "c9 = tf.keras.layers.Conv2D(16, (3, 3), activation='relu', kernel_initializer='he_normal', padding='same')(u9)\n",
        "c9 = tf.keras.layers.Dropout(0.1)(c9)\n",
        "c9 = tf.keras.layers.Conv2D(16, (3, 3), activation='relu', kernel_initializer='he_normal', padding='same')(c9)\n",
        " \n",
        "outputs = tf.keras.layers.Conv2D(1, (1, 1), activation='sigmoid')(c9)\n",
        " \n",
        "model = tf.keras.Model(inputs=[inputs], outputs=[outputs])\n",
        "model.compile(optimizer='adam', loss='binary_crossentropy', metrics=['accuracy'])\n"
      ],
      "metadata": {
        "id": "PVxCgtLLHm0i"
      },
      "execution_count": null,
      "outputs": []
    },
    {
      "cell_type": "code",
      "source": [
        "model.summary()"
      ],
      "metadata": {
        "colab": {
          "base_uri": "https://localhost:8080/"
        },
        "id": "o2bzWjFjzUMf",
        "outputId": "c934bba1-1db8-415f-c735-afcf4a6ca5d8"
      },
      "execution_count": null,
      "outputs": [
        {
          "output_type": "stream",
          "name": "stdout",
          "text": [
            "Model: \"model_4\"\n",
            "__________________________________________________________________________________________________\n",
            " Layer (type)                   Output Shape         Param #     Connected to                     \n",
            "==================================================================================================\n",
            " input_5 (InputLayer)           [(None, 128, 128, 3  0           []                               \n",
            "                                )]                                                                \n",
            "                                                                                                  \n",
            " lambda_4 (Lambda)              (None, 128, 128, 3)  0           ['input_5[0][0]']                \n",
            "                                                                                                  \n",
            " conv2d_76 (Conv2D)             (None, 128, 128, 16  448         ['lambda_4[0][0]']               \n",
            "                                )                                                                 \n",
            "                                                                                                  \n",
            " dropout_36 (Dropout)           (None, 128, 128, 16  0           ['conv2d_76[0][0]']              \n",
            "                                )                                                                 \n",
            "                                                                                                  \n",
            " conv2d_77 (Conv2D)             (None, 128, 128, 16  2320        ['dropout_36[0][0]']             \n",
            "                                )                                                                 \n",
            "                                                                                                  \n",
            " max_pooling2d_16 (MaxPooling2D  (None, 64, 64, 16)  0           ['conv2d_77[0][0]']              \n",
            " )                                                                                                \n",
            "                                                                                                  \n",
            " conv2d_78 (Conv2D)             (None, 64, 64, 32)   4640        ['max_pooling2d_16[0][0]']       \n",
            "                                                                                                  \n",
            " dropout_37 (Dropout)           (None, 64, 64, 32)   0           ['conv2d_78[0][0]']              \n",
            "                                                                                                  \n",
            " conv2d_79 (Conv2D)             (None, 64, 64, 32)   9248        ['dropout_37[0][0]']             \n",
            "                                                                                                  \n",
            " max_pooling2d_17 (MaxPooling2D  (None, 32, 32, 32)  0           ['conv2d_79[0][0]']              \n",
            " )                                                                                                \n",
            "                                                                                                  \n",
            " conv2d_80 (Conv2D)             (None, 32, 32, 64)   18496       ['max_pooling2d_17[0][0]']       \n",
            "                                                                                                  \n",
            " dropout_38 (Dropout)           (None, 32, 32, 64)   0           ['conv2d_80[0][0]']              \n",
            "                                                                                                  \n",
            " conv2d_81 (Conv2D)             (None, 32, 32, 64)   36928       ['dropout_38[0][0]']             \n",
            "                                                                                                  \n",
            " max_pooling2d_18 (MaxPooling2D  (None, 16, 16, 64)  0           ['conv2d_81[0][0]']              \n",
            " )                                                                                                \n",
            "                                                                                                  \n",
            " conv2d_82 (Conv2D)             (None, 16, 16, 128)  73856       ['max_pooling2d_18[0][0]']       \n",
            "                                                                                                  \n",
            " dropout_39 (Dropout)           (None, 16, 16, 128)  0           ['conv2d_82[0][0]']              \n",
            "                                                                                                  \n",
            " conv2d_83 (Conv2D)             (None, 16, 16, 128)  147584      ['dropout_39[0][0]']             \n",
            "                                                                                                  \n",
            " max_pooling2d_19 (MaxPooling2D  (None, 8, 8, 128)   0           ['conv2d_83[0][0]']              \n",
            " )                                                                                                \n",
            "                                                                                                  \n",
            " conv2d_84 (Conv2D)             (None, 8, 8, 256)    295168      ['max_pooling2d_19[0][0]']       \n",
            "                                                                                                  \n",
            " dropout_40 (Dropout)           (None, 8, 8, 256)    0           ['conv2d_84[0][0]']              \n",
            "                                                                                                  \n",
            " conv2d_85 (Conv2D)             (None, 8, 8, 256)    590080      ['dropout_40[0][0]']             \n",
            "                                                                                                  \n",
            " conv2d_transpose_16 (Conv2DTra  (None, 16, 16, 128)  131200     ['conv2d_85[0][0]']              \n",
            " nspose)                                                                                          \n",
            "                                                                                                  \n",
            " concatenate_16 (Concatenate)   (None, 16, 16, 256)  0           ['conv2d_transpose_16[0][0]',    \n",
            "                                                                  'conv2d_83[0][0]']              \n",
            "                                                                                                  \n",
            " conv2d_86 (Conv2D)             (None, 16, 16, 128)  295040      ['concatenate_16[0][0]']         \n",
            "                                                                                                  \n",
            " dropout_41 (Dropout)           (None, 16, 16, 128)  0           ['conv2d_86[0][0]']              \n",
            "                                                                                                  \n",
            " conv2d_87 (Conv2D)             (None, 16, 16, 128)  147584      ['dropout_41[0][0]']             \n",
            "                                                                                                  \n",
            " conv2d_transpose_17 (Conv2DTra  (None, 32, 32, 64)  32832       ['conv2d_87[0][0]']              \n",
            " nspose)                                                                                          \n",
            "                                                                                                  \n",
            " concatenate_17 (Concatenate)   (None, 32, 32, 128)  0           ['conv2d_transpose_17[0][0]',    \n",
            "                                                                  'conv2d_81[0][0]']              \n",
            "                                                                                                  \n",
            " conv2d_88 (Conv2D)             (None, 32, 32, 64)   73792       ['concatenate_17[0][0]']         \n",
            "                                                                                                  \n",
            " dropout_42 (Dropout)           (None, 32, 32, 64)   0           ['conv2d_88[0][0]']              \n",
            "                                                                                                  \n",
            " conv2d_89 (Conv2D)             (None, 32, 32, 64)   36928       ['dropout_42[0][0]']             \n",
            "                                                                                                  \n",
            " conv2d_transpose_18 (Conv2DTra  (None, 64, 64, 32)  8224        ['conv2d_89[0][0]']              \n",
            " nspose)                                                                                          \n",
            "                                                                                                  \n",
            " concatenate_18 (Concatenate)   (None, 64, 64, 64)   0           ['conv2d_transpose_18[0][0]',    \n",
            "                                                                  'conv2d_79[0][0]']              \n",
            "                                                                                                  \n",
            " conv2d_90 (Conv2D)             (None, 64, 64, 32)   18464       ['concatenate_18[0][0]']         \n",
            "                                                                                                  \n",
            " dropout_43 (Dropout)           (None, 64, 64, 32)   0           ['conv2d_90[0][0]']              \n",
            "                                                                                                  \n",
            " conv2d_91 (Conv2D)             (None, 64, 64, 32)   9248        ['dropout_43[0][0]']             \n",
            "                                                                                                  \n",
            " conv2d_transpose_19 (Conv2DTra  (None, 128, 128, 16  2064       ['conv2d_91[0][0]']              \n",
            " nspose)                        )                                                                 \n",
            "                                                                                                  \n",
            " concatenate_19 (Concatenate)   (None, 128, 128, 32  0           ['conv2d_transpose_19[0][0]',    \n",
            "                                )                                 'conv2d_77[0][0]']              \n",
            "                                                                                                  \n",
            " conv2d_92 (Conv2D)             (None, 128, 128, 16  4624        ['concatenate_19[0][0]']         \n",
            "                                )                                                                 \n",
            "                                                                                                  \n",
            " dropout_44 (Dropout)           (None, 128, 128, 16  0           ['conv2d_92[0][0]']              \n",
            "                                )                                                                 \n",
            "                                                                                                  \n",
            " conv2d_93 (Conv2D)             (None, 128, 128, 16  2320        ['dropout_44[0][0]']             \n",
            "                                )                                                                 \n",
            "                                                                                                  \n",
            " conv2d_94 (Conv2D)             (None, 128, 128, 1)  17          ['conv2d_93[0][0]']              \n",
            "                                                                                                  \n",
            "==================================================================================================\n",
            "Total params: 1,941,105\n",
            "Trainable params: 1,941,105\n",
            "Non-trainable params: 0\n",
            "__________________________________________________________________________________________________\n"
          ]
        }
      ]
    },
    {
      "cell_type": "code",
      "source": [
        ""
      ],
      "metadata": {
        "id": "zFio8D_sixQJ"
      },
      "execution_count": null,
      "outputs": []
    },
    {
      "cell_type": "code",
      "source": [
        "TRAIN_PATH=\"/content/drive/MyDrive/Train/Train\"\n",
        "VAL_PATH=\"/content/drive/MyDrive/Val/Val\""
      ],
      "metadata": {
        "id": "opWnz6L1Erle"
      },
      "execution_count": null,
      "outputs": []
    },
    {
      "cell_type": "code",
      "source": [
        "import numpy as np\n",
        "import matplotlib.pyplot as plt\n",
        "import keras\n",
        "from keras.layers import *\n",
        "from keras.models import *\n",
        "from keras.preprocessing import image"
      ],
      "metadata": {
        "id": "4IAz__YSF6Yf"
      },
      "execution_count": null,
      "outputs": []
    },
    {
      "cell_type": "code",
      "source": [
        "train_datagen=image.ImageDataGenerator(\n",
        "rescale=1./255,\n",
        "    shear_range=0.2,\n",
        "    zoom_range=0.2,\n",
        "    horizontal_flip=True\n",
        ")\n",
        "test_datagen=image.ImageDataGenerator(rescale=1./255)\n"
      ],
      "metadata": {
        "id": "ppU2E8LwF73A"
      },
      "execution_count": null,
      "outputs": []
    },
    {
      "cell_type": "code",
      "source": [
        "train_generator=train_datagen.flow_from_directory(\n",
        "'/content/drive/MyDrive/Train/Train',\n",
        "    target_size=(128,128),\n",
        "    batch_size=32,\n",
        "    class_mode='binary'\n",
        ")"
      ],
      "metadata": {
        "colab": {
          "base_uri": "https://localhost:8080/"
        },
        "id": "ynuNhWmOGBG8",
        "outputId": "485b68aa-d9d0-44c6-cf24-08a554e1103a"
      },
      "execution_count": null,
      "outputs": [
        {
          "output_type": "stream",
          "name": "stdout",
          "text": [
            "Found 224 images belonging to 2 classes.\n"
          ]
        }
      ]
    },
    {
      "cell_type": "code",
      "source": [
        "train_generator.class_indices"
      ],
      "metadata": {
        "colab": {
          "base_uri": "https://localhost:8080/"
        },
        "id": "4rKNY2bqGJcH",
        "outputId": "537dd50c-d25a-40d6-b715-9a6134fb8093"
      },
      "execution_count": null,
      "outputs": [
        {
          "output_type": "execute_result",
          "data": {
            "text/plain": [
              "{'Covid': 0, 'Normal': 1}"
            ]
          },
          "metadata": {},
          "execution_count": 13
        }
      ]
    },
    {
      "cell_type": "code",
      "source": [
        "validation_generator=test_datagen.flow_from_directory(\n",
        "'/content/drive/MyDrive/Val/Val',\n",
        "    target_size=(128,128),\n",
        "    batch_size=32,\n",
        "    class_mode='binary'\n",
        ")"
      ],
      "metadata": {
        "colab": {
          "base_uri": "https://localhost:8080/"
        },
        "id": "QvNcwAkAGRua",
        "outputId": "34fab8a2-db77-4412-900d-fd415bb2510f"
      },
      "execution_count": null,
      "outputs": [
        {
          "output_type": "stream",
          "name": "stdout",
          "text": [
            "Found 60 images belonging to 2 classes.\n"
          ]
        }
      ]
    },
    {
      "cell_type": "code",
      "source": [
        "validation_generator.class_indices"
      ],
      "metadata": {
        "colab": {
          "base_uri": "https://localhost:8080/"
        },
        "id": "HmF8YOZ0Gdv-",
        "outputId": "b2b4fd8d-b567-4f8b-ad9d-79ce02ba3ea8"
      },
      "execution_count": null,
      "outputs": [
        {
          "output_type": "execute_result",
          "data": {
            "text/plain": [
              "{'Covid': 0, 'Normal': 1}"
            ]
          },
          "metadata": {},
          "execution_count": 15
        }
      ]
    },
    {
      "cell_type": "code",
      "source": [
        "import os\n",
        "TRAIN_PATH = '/content/drive/MyDrive/Train/Train'\n",
        "TEST_PATH = '/content/drive/MyDrive/Val/Val'\n",
        "\n",
        "train_ids = next(os.walk(TRAIN_PATH))[1]\n",
        "test_ids = next(os.walk(TEST_PATH))[1]\n",
        "\n",
        "X_train = np.zeros((len(train_ids), IMG_HEIGHT, IMG_WIDTH, IMG_CHANNELS), dtype=np.uint8)\n",
        "Y_train = np.zeros((len(train_ids), IMG_HEIGHT, IMG_WIDTH, 1), dtype=np.bool)\n"
      ],
      "metadata": {
        "id": "_6RPTnruMER4"
      },
      "execution_count": null,
      "outputs": []
    },
    {
      "cell_type": "code",
      "source": [
        "hist=model.fit(\n",
        "train_generator,\n",
        "    epochs=14,\n",
        "    validation_data=validation_generator,\n",
        "    validation_steps=2\n",
        ")"
      ],
      "metadata": {
        "id": "lBr5Lxw0GfOo"
      },
      "execution_count": null,
      "outputs": []
    }
  ]
}